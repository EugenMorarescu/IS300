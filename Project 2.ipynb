{
 "cells": [
  {
   "cell_type": "code",
   "execution_count": 333,
   "metadata": {},
   "outputs": [],
   "source": [
    "import matplotlib\n",
    "import numpy as np\n",
    "import pandas as pd\n",
    "import matplotlib.pyplot as plt\n",
    "%matplotlib inline\n",
    "plt.rcParams[\"figure.figsize\"] = [10,10]\n"
   ]
  },
  {
   "cell_type": "code",
   "execution_count": 334,
   "metadata": {},
   "outputs": [
    {
     "data": {
      "text/html": [
       "<div>\n",
       "<style scoped>\n",
       "    .dataframe tbody tr th:only-of-type {\n",
       "        vertical-align: middle;\n",
       "    }\n",
       "\n",
       "    .dataframe tbody tr th {\n",
       "        vertical-align: top;\n",
       "    }\n",
       "\n",
       "    .dataframe thead th {\n",
       "        text-align: right;\n",
       "    }\n",
       "</style>\n",
       "<table border=\"1\" class=\"dataframe\">\n",
       "  <thead>\n",
       "    <tr style=\"text-align: right;\">\n",
       "      <th></th>\n",
       "      <th>id</th>\n",
       "      <th>name</th>\n",
       "      <th>phone</th>\n",
       "      <th>sex and age</th>\n",
       "      <th>test number</th>\n",
       "      <th>term 1</th>\n",
       "      <th>term 2</th>\n",
       "      <th>term 3</th>\n",
       "    </tr>\n",
       "  </thead>\n",
       "  <tbody>\n",
       "    <tr>\n",
       "      <th>0</th>\n",
       "      <td>1</td>\n",
       "      <td>Mike</td>\n",
       "      <td>134</td>\n",
       "      <td>m_12</td>\n",
       "      <td>test 1</td>\n",
       "      <td>76</td>\n",
       "      <td>84</td>\n",
       "      <td>87</td>\n",
       "    </tr>\n",
       "    <tr>\n",
       "      <th>1</th>\n",
       "      <td>2</td>\n",
       "      <td>Linda</td>\n",
       "      <td>270</td>\n",
       "      <td>f_13</td>\n",
       "      <td>test 1</td>\n",
       "      <td>88</td>\n",
       "      <td>90</td>\n",
       "      <td>73</td>\n",
       "    </tr>\n",
       "    <tr>\n",
       "      <th>2</th>\n",
       "      <td>3</td>\n",
       "      <td>Sam</td>\n",
       "      <td>210</td>\n",
       "      <td>m_11</td>\n",
       "      <td>test 1</td>\n",
       "      <td>78</td>\n",
       "      <td>74</td>\n",
       "      <td>80</td>\n",
       "    </tr>\n",
       "    <tr>\n",
       "      <th>3</th>\n",
       "      <td>4</td>\n",
       "      <td>Esther</td>\n",
       "      <td>617</td>\n",
       "      <td>f_12</td>\n",
       "      <td>test 1</td>\n",
       "      <td>68</td>\n",
       "      <td>75</td>\n",
       "      <td>74</td>\n",
       "    </tr>\n",
       "    <tr>\n",
       "      <th>4</th>\n",
       "      <td>5</td>\n",
       "      <td>Mary</td>\n",
       "      <td>114</td>\n",
       "      <td>f_14</td>\n",
       "      <td>test 1</td>\n",
       "      <td>65</td>\n",
       "      <td>67</td>\n",
       "      <td>64</td>\n",
       "    </tr>\n",
       "    <tr>\n",
       "      <th>5</th>\n",
       "      <td>1</td>\n",
       "      <td>Mike</td>\n",
       "      <td>134</td>\n",
       "      <td>m_12</td>\n",
       "      <td>test 2</td>\n",
       "      <td>85</td>\n",
       "      <td>80</td>\n",
       "      <td>90</td>\n",
       "    </tr>\n",
       "    <tr>\n",
       "      <th>6</th>\n",
       "      <td>2</td>\n",
       "      <td>Linda</td>\n",
       "      <td>270</td>\n",
       "      <td>f_13</td>\n",
       "      <td>test 2</td>\n",
       "      <td>87</td>\n",
       "      <td>82</td>\n",
       "      <td>94</td>\n",
       "    </tr>\n",
       "    <tr>\n",
       "      <th>7</th>\n",
       "      <td>3</td>\n",
       "      <td>Sam</td>\n",
       "      <td>210</td>\n",
       "      <td>m_11</td>\n",
       "      <td>test 2</td>\n",
       "      <td>80</td>\n",
       "      <td>87</td>\n",
       "      <td>80</td>\n",
       "    </tr>\n",
       "    <tr>\n",
       "      <th>8</th>\n",
       "      <td>4</td>\n",
       "      <td>Esther</td>\n",
       "      <td>617</td>\n",
       "      <td>f_12</td>\n",
       "      <td>test 2</td>\n",
       "      <td>70</td>\n",
       "      <td>75</td>\n",
       "      <td>78</td>\n",
       "    </tr>\n",
       "    <tr>\n",
       "      <th>9</th>\n",
       "      <td>5</td>\n",
       "      <td>Mary</td>\n",
       "      <td>114</td>\n",
       "      <td>f_14</td>\n",
       "      <td>test 2</td>\n",
       "      <td>68</td>\n",
       "      <td>70</td>\n",
       "      <td>63</td>\n",
       "    </tr>\n",
       "  </tbody>\n",
       "</table>\n",
       "</div>"
      ],
      "text/plain": [
       "   id    name  phone sex and age test number  term 1  term 2  term 3\n",
       "0   1    Mike    134        m_12      test 1      76      84      87\n",
       "1   2   Linda    270        f_13      test 1      88      90      73\n",
       "2   3     Sam    210        m_11      test 1      78      74      80\n",
       "3   4  Esther    617        f_12      test 1      68      75      74\n",
       "4   5    Mary    114        f_14      test 1      65      67      64\n",
       "5   1    Mike    134        m_12      test 2      85      80      90\n",
       "6   2   Linda    270        f_13      test 2      87      82      94\n",
       "7   3     Sam    210        m_11      test 2      80      87      80\n",
       "8   4  Esther    617        f_12      test 2      70      75      78\n",
       "9   5    Mary    114        f_14      test 2      68      70      63"
      ]
     },
     "execution_count": 334,
     "metadata": {},
     "output_type": "execute_result"
    }
   ],
   "source": [
    "filename='students.txt'\n",
    "sdf = pd.read_csv(filename)\n",
    "sdf"
   ]
  },
  {
   "cell_type": "markdown",
   "metadata": {},
   "source": [
    "## Fixing up Students"
   ]
  },
  {
   "cell_type": "code",
   "execution_count": 335,
   "metadata": {},
   "outputs": [
    {
     "data": {
      "text/plain": [
       "<matplotlib.axes._subplots.AxesSubplot at 0x21ea560afd0>"
      ]
     },
     "execution_count": 335,
     "metadata": {},
     "output_type": "execute_result"
    },
    {
     "data": {
      "image/png": "[encoded data removed]",
      "text/plain": [
       "<Figure size 720x720 with 1 Axes>"
      ]
     },
     "metadata": {
      "needs_background": "light"
     },
     "output_type": "display_data"
    },
    {
     "data": {
      "image/png": "[encoded data removed]",
      "text/plain": [
       "<Figure size 720x720 with 1 Axes>"
      ]
     },
     "metadata": {
      "needs_background": "light"
     },
     "output_type": "display_data"
    }
   ],
   "source": [
    "filename='students.txt'\n",
    "sdf = pd.read_csv(filename)\n",
    "sdf.rename(columns={'sex and age':'sna'},inplace=True)\n",
    "sdf[['sex','age']] = sdf.sna.str.split('_',expand=True,)\n",
    "del sdf['sna']\n",
    "sdf=sdf[[\"name\",'sex','age','phone','test number','term 1','term 2','term 3']]\n",
    "sdf['phone']=sdf.phone.astype(str)\n",
    "sdf['average'] = sdf.mean(axis=1)\n",
    "sdf1=sdf.iloc[:5]\n",
    "sdf2=sdf.iloc[5:]\n",
    "sdf1.plot(x='name',kind='bar',title=\"Test 1\",logy=True)\n",
    "sdf2.plot(x='name',kind='bar',title=\"Test 2\",logy=True)\n",
    "\n",
    "\n"
   ]
  },
  {
   "cell_type": "markdown",
   "metadata": {},
   "source": [
    "**After splitting the data into Test 1 and Test 2 we can see that, generally speaking Mike and Linda were at the top of the class each term and had the highest averages, with Sam, Esther, and Mary following respectively.**"
   ]
  },
  {
   "cell_type": "code",
   "execution_count": 336,
   "metadata": {},
   "outputs": [
    {
     "data": {
      "text/html": [
       "<div>\n",
       "<style scoped>\n",
       "    .dataframe tbody tr th:only-of-type {\n",
       "        vertical-align: middle;\n",
       "    }\n",
       "\n",
       "    .dataframe tbody tr th {\n",
       "        vertical-align: top;\n",
       "    }\n",
       "\n",
       "    .dataframe thead th {\n",
       "        text-align: right;\n",
       "    }\n",
       "</style>\n",
       "<table border=\"1\" class=\"dataframe\">\n",
       "  <thead>\n",
       "    <tr style=\"text-align: right;\">\n",
       "      <th></th>\n",
       "      <th>Species</th>\n",
       "      <th>habitat</th>\n",
       "      <th>weight</th>\n",
       "      <th>length</th>\n",
       "    </tr>\n",
       "  </thead>\n",
       "  <tbody>\n",
       "    <tr>\n",
       "      <th>0</th>\n",
       "      <td>Alligator</td>\n",
       "      <td>swamp</td>\n",
       "      <td>431 lb</td>\n",
       "      <td>4 ft 2</td>\n",
       "    </tr>\n",
       "    <tr>\n",
       "      <th>1</th>\n",
       "      <td>Puma</td>\n",
       "      <td>forest</td>\n",
       "      <td>125 lb</td>\n",
       "      <td>2.2m</td>\n",
       "    </tr>\n",
       "    <tr>\n",
       "      <th>2</th>\n",
       "      <td>Bear</td>\n",
       "      <td>forest</td>\n",
       "      <td>88 kg</td>\n",
       "      <td>133 cm</td>\n",
       "    </tr>\n",
       "  </tbody>\n",
       "</table>\n",
       "</div>"
      ],
      "text/plain": [
       "     Species habitat  weight  length\n",
       "0  Alligator   swamp  431 lb  4 ft 2\n",
       "1       Puma  forest  125 lb    2.2m\n",
       "2       Bear  forest   88 kg  133 cm"
      ]
     },
     "execution_count": 336,
     "metadata": {},
     "output_type": "execute_result"
    }
   ],
   "source": [
    "filename='animals.txt'\n",
    "adf = pd.read_csv(filename)\n",
    "adf"
   ]
  },
  {
   "cell_type": "markdown",
   "metadata": {},
   "source": [
    "## Fixing up Animals"
   ]
  },
  {
   "cell_type": "code",
   "execution_count": 337,
   "metadata": {
    "scrolled": false
   },
   "outputs": [
    {
     "data": {
      "text/plain": [
       "<matplotlib.axes._subplots.AxesSubplot at 0x21ea5665850>"
      ]
     },
     "execution_count": 337,
     "metadata": {},
     "output_type": "execute_result"
    },
    {
     "data": {
      "image/png": "[encoded data removed]",
      "text/plain": [
       "<Figure size 720x720 with 1 Axes>"
      ]
     },
     "metadata": {
      "needs_background": "light"
     },
     "output_type": "display_data"
    }
   ],
   "source": [
    "filename='animals.txt'\n",
    "adf = pd.read_csv(filename)\n",
    "adf.rename(columns={'weight':'weight(lb)'},inplace=True)\n",
    "adf.rename(columns={'length':'length(in)'},inplace=True)\n",
    "adf.iloc[2][2] = 194\n",
    "adf.iloc[1][2] = 125\n",
    "adf.iloc[0][2] = 431\n",
    "adf.iloc[1][3] = 86.64\n",
    "adf.iloc[0][3] = 50\n",
    "adf.iloc[2][3] = 52.37\n",
    "adf.plot(x='Species', kind='bar')\n"
   ]
  },
  {
   "cell_type": "markdown",
   "metadata": {},
   "source": [
    "**After making the weight and length columns integers and giving them all a universal measurement type, we can now plot the data. Based on what is shown, I can conclude that, even though the Alligator is the shorter of the three animals, it is the heaviest by far.**"
   ]
  },
  {
   "cell_type": "code",
   "execution_count": 338,
   "metadata": {
    "scrolled": false
   },
   "outputs": [
    {
     "data": {
      "text/html": [
       "<div>\n",
       "<style scoped>\n",
       "    .dataframe tbody tr th:only-of-type {\n",
       "        vertical-align: middle;\n",
       "    }\n",
       "\n",
       "    .dataframe tbody tr th {\n",
       "        vertical-align: top;\n",
       "    }\n",
       "\n",
       "    .dataframe thead th {\n",
       "        text-align: right;\n",
       "    }\n",
       "</style>\n",
       "<table border=\"1\" class=\"dataframe\">\n",
       "  <thead>\n",
       "    <tr style=\"text-align: right;\">\n",
       "      <th></th>\n",
       "      <th>Manufacturer</th>\n",
       "      <th>year</th>\n",
       "      <th>doors</th>\n",
       "      <th>price</th>\n",
       "      <th>safety rating</th>\n",
       "    </tr>\n",
       "  </thead>\n",
       "  <tbody>\n",
       "    <tr>\n",
       "      <th>0</th>\n",
       "      <td>Mustang</td>\n",
       "      <td>2010</td>\n",
       "      <td>2</td>\n",
       "      <td>$13298</td>\n",
       "      <td>B</td>\n",
       "    </tr>\n",
       "    <tr>\n",
       "      <th>1</th>\n",
       "      <td>Ford</td>\n",
       "      <td>2015</td>\n",
       "      <td>4</td>\n",
       "      <td>$10543</td>\n",
       "      <td>A</td>\n",
       "    </tr>\n",
       "    <tr>\n",
       "      <th>2</th>\n",
       "      <td>Kia</td>\n",
       "      <td>2018</td>\n",
       "      <td>4</td>\n",
       "      <td>$12998</td>\n",
       "      <td>B-</td>\n",
       "    </tr>\n",
       "    <tr>\n",
       "      <th>3</th>\n",
       "      <td>Porsche</td>\n",
       "      <td>2020</td>\n",
       "      <td>2</td>\n",
       "      <td>$123987</td>\n",
       "      <td>A-</td>\n",
       "    </tr>\n",
       "  </tbody>\n",
       "</table>\n",
       "</div>"
      ],
      "text/plain": [
       "  Manufacturer  year  doors    price safety rating\n",
       "0      Mustang  2010      2   $13298             B\n",
       "1         Ford  2015      4   $10543             A\n",
       "2          Kia  2018      4   $12998            B-\n",
       "3      Porsche  2020      2  $123987            A-"
      ]
     },
     "execution_count": 338,
     "metadata": {},
     "output_type": "execute_result"
    }
   ],
   "source": [
    "filename='cars.txt'\n",
    "cdf = pd.read_csv(filename)\n",
    "cdf"
   ]
  },
  {
   "cell_type": "markdown",
   "metadata": {},
   "source": [
    "## Fixing up Cars"
   ]
  },
  {
   "cell_type": "code",
   "execution_count": 339,
   "metadata": {
    "scrolled": false
   },
   "outputs": [
    {
     "data": {
      "text/plain": [
       "<matplotlib.axes._subplots.AxesSubplot at 0x21ea5892550>"
      ]
     },
     "execution_count": 339,
     "metadata": {},
     "output_type": "execute_result"
    },
    {
     "data": {
      "image/png": "[encoded data removed]",
      "text/plain": [
       "<Figure size 720x720 with 1 Axes>"
      ]
     },
     "metadata": {
      "needs_background": "light"
     },
     "output_type": "display_data"
    }
   ],
   "source": [
    "filename='cars.txt'\n",
    "cdf = pd.read_csv(filename)\n",
    "cdf['price'] = cdf['price'].str.replace('$', '')\n",
    "cdf['price']=cdf['price'].astype(float)\n",
    "\n",
    "cdf.plot(x='year',y='price',kind='bar')"
   ]
  },
  {
   "cell_type": "markdown",
   "metadata": {},
   "source": [
    "**After removing the dollar sign string value from all of the values in the price column, I converted them to floats so that calculations and graphing can be more easily done. In a larger sample, you would now be able to use this data see there are any correlations between things like amount of doors and price or year and price. In this case there is not because the price of a car from 2010 is higher than the price of a car from 2015**"
   ]
  },
  {
   "cell_type": "code",
   "execution_count": null,
   "metadata": {},
   "outputs": [],
   "source": []
  }
 ],
 "metadata": {
  "kernelspec": {
   "display_name": "Python 3",
   "language": "python",
   "name": "python3"
  },
  "language_info": {
   "codemirror_mode": {
    "name": "ipython",
    "version": 3
   },
   "file_extension": ".py",
   "mimetype": "text/x-python",
   "name": "python",
   "nbconvert_exporter": "python",
   "pygments_lexer": "ipython3",
   "version": "3.8.3"
  }
 },
 "nbformat": 4,
 "nbformat_minor": 4
}
