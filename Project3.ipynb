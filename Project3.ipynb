{
 "cells": [
  {
   "cell_type": "code",
   "execution_count": 10,
   "metadata": {},
   "outputs": [
    {
     "name": "stdout",
     "output_type": "stream",
     "text": [
      "   Last Name First Name                                              Track  \\\n",
      "0    Almeida    Roberto                            Right Next Door to Hell   \n",
      "1    Almeida    Roberto                                     In The Evening   \n",
      "2    Almeida    Roberto                                   Fool In The Rain   \n",
      "3    Almeida    Roberto  Saudade Dos Aviões Da Panair (Conversando No Bar)   \n",
      "4    Almeida    Roberto                             Caso Você Queira Saber   \n",
      "5    Almeida    Roberto                                              Dance   \n",
      "6    Almeida    Roberto                                          Aos Leões   \n",
      "7    Almeida    Roberto                                           Demorou!   \n",
      "8    Almeida    Roberto                                    Home Sweet Home   \n",
      "9    Almeida    Roberto                                              Intro   \n",
      "10   Almeida    Roberto                               Scentless Apprentice   \n",
      "11   Almeida    Roberto                                           In Bloom   \n",
      "12   Almeida    Roberto                                         On A Plain   \n",
      "13   Almeida    Roberto                                           Mundaréu   \n",
      "14   Almeida    Roberto                             Nossa Gente (Avisa Là)   \n",
      "15   Almeida    Roberto                                     Revolta Olodum   \n",
      "16   Almeida    Roberto                                          Vai Valer   \n",
      "17   Almeida    Roberto                                         Vai Passar   \n",
      "18   Almeida    Roberto                                   Morena De Angola   \n",
      "19   Almeida    Roberto                                     Meu Caro Amigo   \n",
      "\n",
      "                                         Album  \n",
      "0                          Use Your Illusion I  \n",
      "1                      In Through The Out Door  \n",
      "2                      In Through The Out Door  \n",
      "3                                        Minas  \n",
      "4                                        Minas  \n",
      "5                                Ace Of Spades  \n",
      "6                                   Demorou...  \n",
      "7                                   Demorou...  \n",
      "8                    Motley Crue Greatest Hits  \n",
      "9   From The Muddy Banks Of The Wishkah [Live]  \n",
      "10  From The Muddy Banks Of The Wishkah [Live]  \n",
      "11                                   Nevermind  \n",
      "12                                   Nevermind  \n",
      "13                                Compositores  \n",
      "14                                      Olodum  \n",
      "15                                      Olodum  \n",
      "16                                Acústico MTV  \n",
      "17                              Minha Historia  \n",
      "18                              Minha Historia  \n",
      "19                              Minha Historia  \n"
     ]
    }
   ],
   "source": [
    "import mysql.connector\n",
    "import pandas as pd\n",
    "\n",
    "mydb = mysql.connector.connect(\n",
    "    host=\"localhost\",\n",
    "    user=\"root\",\n",
    "    passwd=\"XXXXX\",\n",
    "    database=\"chinook\"\n",
    "    )\n",
    "\n",
    "mycursor = mydb.cursor()\n",
    "\n",
    "\n",
    "mycursor.execute(\"Select customer.Lastname,customer.Firstname,track.Name,album.Title FROM customer INNER JOIN invoice ON customer.CustomerId = invoice.CustomerId INNER JOIN invoiceline ON invoice.InvoiceId = invoiceline.InvoiceId INNER JOIN track ON invoiceline.TrackId = track.TrackId INNER JOIN album ON track.AlbumId = album.AlbumId ORDER BY customer.Lastname,customer.Firstname\")\n",
    "final = mycursor.fetchall()\n",
    "\n",
    "\n",
    "\n",
    "df = pd.DataFrame(final)\n",
    "df.columns=[['Last Name','First Name','Track','Album']]\n",
    "\n",
    "print(df)"
   ]
  },
  {
   "cell_type": "code",
   "execution_count": null,
   "metadata": {},
   "outputs": [],
   "source": []
  }
 ],
 "metadata": {
  "kernelspec": {
   "display_name": "Python 3",
   "language": "python",
   "name": "python3"
  },
  "language_info": {
   "codemirror_mode": {
    "name": "ipython",
    "version": 3
   },
   "file_extension": ".py",
   "mimetype": "text/x-python",
   "name": "python",
   "nbconvert_exporter": "python",
   "pygments_lexer": "ipython3",
   "version": "3.8.3"
  }
 },
 "nbformat": 4,
 "nbformat_minor": 4
}
