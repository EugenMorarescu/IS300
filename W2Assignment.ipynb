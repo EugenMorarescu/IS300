{
 "cells": [
  {
   "cell_type": "markdown",
   "metadata": {},
   "source": [
    "# Dictionary Comprehensions Using Zip Function\n",
    "\n",
    "<h2>Benefits:<h2>\n",
    "\n",
    "* Cleaner, more consice code\n",
    "\n",
    "* Avoids Duplicate values\n",
    "\n",
    "* Executes faster\n"
   ]
  },
  {
   "cell_type": "markdown",
   "metadata": {},
   "source": [
    "<h2>Using For Loop<h2>"
   ]
  },
  {
   "cell_type": "code",
   "execution_count": 7,
   "metadata": {},
   "outputs": [
    {
     "name": "stdout",
     "output_type": "stream",
     "text": [
      "{'New York': 'Albany', 'New Jersey': 'Trenton', 'Connecticut': 'Hartford', 'Vermont': 'Montpelier'}\n"
     ]
    }
   ],
   "source": [
    "States = ['New York','New Jersey','Connecticut','Vermont']\n",
    "Capitals = ['Albany','Trenton','Hartford','Montpelier']\n",
    "\n",
    "Dictionary = {}\n",
    "for States, Capitals in zip(States,Capitals):\n",
    "    Dictionary[States]=Capitals\n",
    "    \n",
    "print (Dictionary)\n"
   ]
  },
  {
   "cell_type": "markdown",
   "metadata": {},
   "source": [
    "> zip(States,Capitals)\n",
    "\n",
    "The Zip function here takes the two lists, States and Capital, and converts it into a list of tuples that matches the values of the first index in 'States' to the first index in 'Capitals' and so on."
   ]
  },
  {
   "cell_type": "code",
   "execution_count": 17,
   "metadata": {},
   "outputs": [
    {
     "name": "stdout",
     "output_type": "stream",
     "text": [
      "[('New York', 'Albany'), ('New Jersey', 'Trenton'), ('Connecticut', 'Hartford'), ('Vermont', 'Montpelier')]\n"
     ]
    }
   ],
   "source": [
    "States = ['New York','New Jersey','Connecticut','Vermont']\n",
    "Capitals = ['Albany','Trenton','Hartford','Montpelier']\n",
    "\n",
    "mytup = zip(States, Capitals)\n",
    "\n",
    "tupres = list(mytup)\n",
    "\n",
    "print (tupres)\n",
    "\n"
   ]
  },
  {
   "cell_type": "markdown",
   "metadata": {},
   "source": [
    "<h2>Using Dictionary Comprehension<h2>"
   ]
  },
  {
   "cell_type": "code",
   "execution_count": null,
   "metadata": {},
   "outputs": [],
   "source": [
    "States = ['New York','New Jersey','Connecticut','Vermont']\n",
    "Capitals = ['Albany','Trenton','Hartford','Montpelier']\n",
    "\n",
    "Dictionary = {States: Capitals for States, Capitals in zip(States,Capitals)}\n",
    "print (Dictionary)"
   ]
  },
  {
   "cell_type": "markdown",
   "metadata": {},
   "source": [
    "**Using Dictionary comprehension, we are able to get the same result using clearer and easier to read code.**"
   ]
  },
  {
   "cell_type": "code",
   "execution_count": null,
   "metadata": {},
   "outputs": [],
   "source": []
  }
 ],
 "metadata": {
  "kernelspec": {
   "display_name": "Python 3",
   "language": "python",
   "name": "python3"
  },
  "language_info": {
   "codemirror_mode": {
    "name": "ipython",
    "version": 3
   },
   "file_extension": ".py",
   "mimetype": "text/x-python",
   "name": "python",
   "nbconvert_exporter": "python",
   "pygments_lexer": "ipython3",
   "version": "3.8.3"
  }
 },
 "nbformat": 4,
 "nbformat_minor": 4
}
