{
 "cells": [
  {
   "cell_type": "code",
   "execution_count": 69,
   "metadata": {},
   "outputs": [],
   "source": [
    "%matplotlib inline\n",
    "import matplotlib.pyplot as plt\n",
    "import numpy as np\n",
    "import pandas as pd\n",
    "import seaborn as sns\n",
    "sns.set()\n",
    "\n",
    "import sklearn.model_selection\n",
    "import sklearn.linear_model\n",
    "from sklearn import metrics"
   ]
  },
  {
   "cell_type": "code",
   "execution_count": 70,
   "metadata": {},
   "outputs": [
    {
     "data": {
      "text/plain": [
       "<matplotlib.collections.PathCollection at 0x1447b2f8e50>"
      ]
     },
     "execution_count": 70,
     "metadata": {},
     "output_type": "execute_result"
    },
    {
     "data": {
      "image/png": "[encoded data removed]",
      "text/plain": [
       "<Figure size 432x288 with 1 Axes>"
      ]
     },
     "metadata": {},
     "output_type": "display_data"
    }
   ],
   "source": [
    "url = 'https://archive.ics.uci.edu/ml/machine-learning-databases/mushroom/agaricus-lepiota.data'\n",
    "\n",
    "data = pd.read_csv(url, usecols=[0,2,5,9], header=None, names=['edible', 'surface', 'odor','color'])\n",
    "\n",
    "x = data['edible'].values\n",
    "y = data['odor'].values\n",
    "z = data['surface'].values\n",
    "j = data['color'].values\n",
    "plt.scatter(x,y)"
   ]
  },
  {
   "cell_type": "code",
   "execution_count": 71,
   "metadata": {},
   "outputs": [
    {
     "data": {
      "text/plain": [
       "<matplotlib.collections.PathCollection at 0x1447dda6b80>"
      ]
     },
     "execution_count": 71,
     "metadata": {},
     "output_type": "execute_result"
    },
    {
     "data": {
      "image/png": "[encoded data removed]",
      "text/plain": [
       "<Figure size 432x288 with 1 Axes>"
      ]
     },
     "metadata": {},
     "output_type": "display_data"
    }
   ],
   "source": [
    "plt.scatter(x,z)"
   ]
  },
  {
   "cell_type": "code",
   "execution_count": 72,
   "metadata": {},
   "outputs": [
    {
     "data": {
      "text/plain": [
       "<matplotlib.collections.PathCollection at 0x1447cb94c40>"
      ]
     },
     "execution_count": 72,
     "metadata": {},
     "output_type": "execute_result"
    },
    {
     "data": {
      "image/png": "[encoded data removed]",
      "text/plain": [
       "<Figure size 432x288 with 1 Axes>"
      ]
     },
     "metadata": {},
     "output_type": "display_data"
    }
   ],
   "source": [
    "plt.scatter(x,j)"
   ]
  },
  {
   "cell_type": "markdown",
   "metadata": {},
   "source": [
    "# Graph Analysis"
   ]
  },
  {
   "cell_type": "markdown",
   "metadata": {},
   "source": [
    "**Looking at the Scatter Plot of the data it is easy to see that the one category that has very little overlap is that of Odor. This helps us visualize the data and recognize that the other categories are present in both the edible and poisonous categories thus making them a poor indicator of whether or not a mushroom can be eaten. We see in the scatter plot between Odor and Edibile that only one odor has both edible and poisonous designations, whereas all other odors indicate poisnous. This simply shows that Odor is avery good way to determine whether a mushroom is poisonous or not.**"
   ]
  },
  {
   "cell_type": "code",
   "execution_count": 73,
   "metadata": {},
   "outputs": [],
   "source": [
    "data.replace(to_replace={\"edible\":{'e':0,'p':1}},inplace=True)\n",
    "data.replace(to_replace={\"odor\":{'a':0,'l':1,'y':2,'c':3,'s':4,'m':5,'p':6,'n':7,'f':8}}, inplace = True)\n",
    "data.replace(to_replace={\"color\":{'n':9,'c':10,'b':11,'r':12,'g':13,'p':14,'e':15,'u':16,'w':17,'y':18,'h':19,'k':20,'o':21}},inplace=True)\n",
    "data.replace(to_replace={\"surface\":{'f':22, 'g':23,'y':24,'s':25}}, inplace = True)"
   ]
  },
  {
   "cell_type": "code",
   "execution_count": 74,
   "metadata": {},
   "outputs": [],
   "source": [
    "o = pd.Series(data[\"odor\"])\n",
    "o_dummy = pd.get_dummies(o)\n",
    "\n",
    "co = pd.Series(data[\"color\"])\n",
    "co_dummy = pd.get_dummies(co)\n",
    "\n",
    "sf = pd.Series(data[\"surface\"])\n",
    "sf_dummy = pd.get_dummies(sf)\n",
    "\n",
    "new_data = pd.concat([o_dummy,co_dummy,sf_dummy,data['edible']],axis=1)"
   ]
  },
  {
   "cell_type": "code",
   "execution_count": 75,
   "metadata": {},
   "outputs": [],
   "source": [
    "x = new_data.iloc[:, :-1].values\n",
    "y = new_data.iloc[:, :1].values\n",
    "\n",
    "X_train, X_test, Y_train, Y_test = sklearn.model_selection.train_test_split(x, y, random_state=1)"
   ]
  },
  {
   "cell_type": "code",
   "execution_count": 76,
   "metadata": {},
   "outputs": [
    {
     "name": "stdout",
     "output_type": "stream",
     "text": [
      "0.0\n",
      "0.0\n",
      "0.0\n"
     ]
    }
   ],
   "source": [
    "lr = sklearn.linear_model.LinearRegression()\n",
    "lr.fit(X_train, Y_train)\n",
    "Y_pred = lr.predict(X_test)\n",
    "true = [1, 0]\n",
    "pred = [1, 0]\n",
    "\n",
    "print(sklearn.metrics.mean_absolute_error(true, pred))\n",
    "print(sklearn.metrics.mean_squared_error(true, pred))\n",
    "print(np.sqrt(sklearn.metrics.mean_squared_error(true, pred)))"
   ]
  },
  {
   "cell_type": "code",
   "execution_count": 77,
   "metadata": {},
   "outputs": [
    {
     "name": "stdout",
     "output_type": "stream",
     "text": [
      "3.485493754237733e-15\n"
     ]
    }
   ],
   "source": [
    "#The combined categories are very good predictors of edibility\n",
    "\n",
    "print(np.sqrt(metrics.mean_squared_error(Y_test, Y_pred)))"
   ]
  },
  {
   "cell_type": "code",
   "execution_count": 78,
   "metadata": {},
   "outputs": [
    {
     "name": "stdout",
     "output_type": "stream",
     "text": [
      "1.1464752758477514e-15\n"
     ]
    }
   ],
   "source": [
    "#Odor alone shows that it, alone, is a better predictor for edibility than all categories combined\n",
    "\n",
    "X = new_data.iloc[:, 0:9].values\n",
    "Y = new_data.iloc[:, 1].values\n",
    "\n",
    "X_train, X_test, Y_train, Y_test = sklearn.model_selection.train_test_split(X, Y, random_state=1)\n",
    "lr.fit(X_train, Y_train)\n",
    "Y_pred = lr.predict(X_test)\n",
    "\n",
    "print(np.sqrt(metrics.mean_squared_error(Y_test, Y_pred)))"
   ]
  },
  {
   "cell_type": "code",
   "execution_count": 79,
   "metadata": {},
   "outputs": [
    {
     "name": "stdout",
     "output_type": "stream",
     "text": [
      "0.20471940843405823\n"
     ]
    }
   ],
   "source": [
    "#Color alone is not as good a predictor for edibility as all categories combined or odor alone. In fact, it is a bad predictor in comparison.\n",
    "\n",
    "X = new_data.iloc[:, 9:22].values\n",
    "Y = new_data.iloc[:, 1].values\n",
    "\n",
    "X_train, X_test, Y_train, Y_test = sklearn.model_selection.train_test_split(X, Y, random_state=1)\n",
    "lr.fit(X_train, Y_train)\n",
    "Y_pred = lr.predict(X_test)\n",
    "\n",
    "print(np.sqrt(metrics.mean_squared_error(Y_test, Y_pred)))"
   ]
  },
  {
   "cell_type": "code",
   "execution_count": 80,
   "metadata": {},
   "outputs": [
    {
     "name": "stdout",
     "output_type": "stream",
     "text": [
      "0.2046906026690536\n"
     ]
    }
   ],
   "source": [
    "#Surface alone is not as good a predictor for edibility as all categories combined or odor alone. In fact, it is a bad predictor in comparison. It is slightly better than color alone, however.\n",
    "\n",
    "X = new_data.iloc[:, 22:26].values\n",
    "Y = new_data.iloc[:, 1].values\n",
    "\n",
    "X_train, X_test, Y_train, Y_test = sklearn.model_selection.train_test_split(X, Y, random_state=1)\n",
    "lr.fit(X_train, Y_train)\n",
    "Y_pred = lr.predict(X_test)\n",
    "\n",
    "print(np.sqrt(metrics.mean_squared_error(Y_test, Y_pred)))\n",
    "\n"
   ]
  },
  {
   "cell_type": "code",
   "execution_count": 81,
   "metadata": {},
   "outputs": [
    {
     "name": "stdout",
     "output_type": "stream",
     "text": [
      "0.2007210039194366\n"
     ]
    }
   ],
   "source": [
    "# Excluding odor and leaving all other categories shows that not including odor is a bad predictor of edibility.\n",
    "X = new_data.iloc[:, 9:26].values\n",
    "Y = new_data.iloc[:, 1].values\n",
    "\n",
    "X_train, X_test, Y_train, Y_test = sklearn.model_selection.train_test_split(X, Y, random_state=1)\n",
    "lr.fit(X_train, Y_train)\n",
    "Y_pred = lr.predict(X_test)\n",
    "\n",
    "print(np.sqrt(metrics.mean_squared_error(Y_test, Y_pred)))"
   ]
  },
  {
   "cell_type": "markdown",
   "metadata": {},
   "source": [
    "# Final Analysis"
   ]
  },
  {
   "cell_type": "markdown",
   "metadata": {},
   "source": [
    "**Accoridng to the analysis, odor is an incredibly strong predictor of edibility. When it is used as the sole predictor, it is more accurate than all of the categories combined. Each individual category outside of odor turns out to be an objectively bad way to predict edibility. When odor is excluded, the accuracy drops dramatically thus showing that odor, whether alone or included, will be the best predictor of whether or not a mushroom is edible.**"
   ]
  },
  {
   "cell_type": "code",
   "execution_count": null,
   "metadata": {},
   "outputs": [],
   "source": []
  }
 ],
 "metadata": {
  "kernelspec": {
   "display_name": "Python 3",
   "language": "python",
   "name": "python3"
  },
  "language_info": {
   "codemirror_mode": {
    "name": "ipython",
    "version": 3
   },
   "file_extension": ".py",
   "mimetype": "text/x-python",
   "name": "python",
   "nbconvert_exporter": "python",
   "pygments_lexer": "ipython3",
   "version": "3.8.3"
  }
 },
 "nbformat": 4,
 "nbformat_minor": 4
}
